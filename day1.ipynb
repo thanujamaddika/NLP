{
  "nbformat": 4,
  "nbformat_minor": 0,
  "metadata": {
    "colab": {
      "provenance": []
    },
    "kernelspec": {
      "name": "python3",
      "display_name": "Python 3"
    },
    "language_info": {
      "name": "python"
    }
  },
  "cells": [
    {
      "cell_type": "code",
      "source": [
        "!apt-get install git\n"
      ],
      "metadata": {
        "colab": {
          "base_uri": "https://localhost:8080/"
        },
        "id": "Ab2e9626DHb1",
        "outputId": "cb9e32e0-b671-468e-d9d8-bd8a3766e06f"
      },
      "execution_count": 3,
      "outputs": [
        {
          "output_type": "stream",
          "name": "stdout",
          "text": [
            "Reading package lists... Done\n",
            "Building dependency tree... Done\n",
            "Reading state information... Done\n",
            "git is already the newest version (1:2.34.1-1ubuntu1.12).\n",
            "0 upgraded, 0 newly installed, 0 to remove and 49 not upgraded.\n"
          ]
        }
      ]
    },
    {
      "cell_type": "code",
      "source": [
        "!git clone https://github.com/thanujamaddika/NLP.git"
      ],
      "metadata": {
        "colab": {
          "base_uri": "https://localhost:8080/"
        },
        "id": "eSLODQmlDSXy",
        "outputId": "8d7f8654-e11c-4979-c093-0be7a21e5bac"
      },
      "execution_count": 10,
      "outputs": [
        {
          "output_type": "stream",
          "name": "stdout",
          "text": [
            "Cloning into 'NLP'...\n",
            "warning: You appear to have cloned an empty repository.\n"
          ]
        }
      ]
    },
    {
      "cell_type": "code",
      "source": [
        "integer_var = 10\n",
        "float_var = 15.75\n",
        "string_var = \"Hello, Jupyter!\"\n",
        "boolean_var = True\n",
        "print(\"Integer Variable:\")\n",
        "print(\"Value:\", integer_var, \"| Type:\", type(integer_var)) # Removed extra indent here\n",
        "print(\"\\nFloat Variable:\")\n",
        "print(\"Value:\", float_var, \"| Type:\", type(float_var))\n",
        "print(\"\\nString Variable:\")\n",
        "print(\"Value:\", string_var, \"| Type:\", type(string_var))\n",
        "print(\"\\nBoolean Variable:\")\n",
        "print(\"Value:\", boolean_var, \"| Type:\", type(boolean_var))"
      ],
      "metadata": {
        "colab": {
          "base_uri": "https://localhost:8080/"
        },
        "id": "awTnHbtmGp96",
        "outputId": "ffdb3530-d667-4f96-c09a-c030b4c9fcde"
      },
      "execution_count": 12,
      "outputs": [
        {
          "output_type": "stream",
          "name": "stdout",
          "text": [
            "Integer Variable:\n",
            "Value: 10 | Type: <class 'int'>\n",
            "\n",
            "Float Variable:\n",
            "Value: 15.75 | Type: <class 'float'>\n",
            "\n",
            "String Variable:\n",
            "Value: Hello, Jupyter! | Type: <class 'str'>\n",
            "\n",
            "Boolean Variable:\n",
            "Value: True | Type: <class 'bool'>\n"
          ]
        }
      ]
    },
    {
      "cell_type": "code",
      "source": [],
      "metadata": {
        "id": "V1kXQ1AHG8jg"
      },
      "execution_count": null,
      "outputs": []
    }
  ]
}