{
  "nbformat": 4,
  "nbformat_minor": 0,
  "metadata": {
    "colab": {
      "provenance": [],
      "authorship_tag": "ABX9TyO+T5At7QjKAEkFSmLB0GWw",
      "include_colab_link": true
    },
    "kernelspec": {
      "name": "python3",
      "display_name": "Python 3"
    },
    "language_info": {
      "name": "python"
    }
  },
  "cells": [
    {
      "cell_type": "markdown",
      "metadata": {
        "id": "view-in-github",
        "colab_type": "text"
      },
      "source": [
        "<a href=\"https://colab.research.google.com/github/thanujamaddika/NLP/blob/main/DAY8.ipynb\" target=\"_parent\"><img src=\"https://colab.research.google.com/assets/colab-badge.svg\" alt=\"Open In Colab\"/></a>"
      ]
    },
    {
      "cell_type": "code",
      "execution_count": 1,
      "metadata": {
        "colab": {
          "base_uri": "https://localhost:8080/"
        },
        "id": "qRAmaHyPBIXs",
        "outputId": "8fbb02ac-b587-40c5-a822-01d479a7131b"
      },
      "outputs": [
        {
          "output_type": "stream",
          "name": "stdout",
          "text": [
            "Lemmatized Data: ['sample', 'text', 'file', 'preprocessing', 'contains', 'multiple', 'words', 'sentences']\n",
            "Stemmed Data: ['sampl', 'text', 'file', 'preprocess', 'contain', 'multipl', 'word', 'sentenc']\n"
          ]
        }
      ],
      "source": [
        "from gensim.parsing.preprocessing import preprocess_string, strip_punctuation, strip_numeric, remove_stopwords, strip_short\n",
        "from gensim.parsing.porter import PorterStemmer\n",
        "\n",
        "def preprocess_text(text):\n",
        "    filters = [lambda x: x.lower(), strip_punctuation, strip_numeric, remove_stopwords, strip_short]\n",
        "    return preprocess_string(text, filters)\n",
        "\n",
        "sample_text = \"This is a sample text file for preprocessing. It contains multiple words and sentences.\"\n",
        "\n",
        "processed_data = preprocess_text(sample_text)\n",
        "\n",
        "stemmer = PorterStemmer()\n",
        "stemmed_data = [stemmer.stem(word) for word in processed_data]\n",
        "\n",
        "print(\"Lemmatized Data:\", processed_data)\n",
        "print(\"Stemmed Data:\", stemmed_data)\n"
      ]
    },
    {
      "cell_type": "code",
      "source": [
        "import nltk\n",
        "\n",
        "# Download the 'punkt_tab' data package\n",
        "nltk.download('punkt_tab')\n",
        "\n",
        "from nltk.tokenize import word_tokenize, sent_tokenize\n",
        "\n",
        "sample_paragraph = \"\"\"\n",
        "Natural Language Processing (NLP) is a subfield of artificial intelligence (AI) that focuses on the interaction between computers and human language.\n",
        "It aims to enable computers to understand, interpret, and generate human language in a way that is both valuable and meaningful.\n",
        "\"\"\"\n",
        "\n",
        "# Tokenizing the paragraph into sentences and words\n",
        "sentences = sent_tokenize(sample_paragraph)\n",
        "words = word_tokenize(sample_paragraph)\n",
        "\n",
        "print(\"Sentences:\")\n",
        "print(sentences)\n",
        "print(\"\\nWords:\")\n",
        "print(words)"
      ],
      "metadata": {
        "colab": {
          "base_uri": "https://localhost:8080/"
        },
        "id": "5aS7FJdvBS1o",
        "outputId": "c403a608-1aff-4ed2-c940-908e7bf3b19e"
      },
      "execution_count": 3,
      "outputs": [
        {
          "output_type": "stream",
          "name": "stderr",
          "text": [
            "[nltk_data] Downloading package punkt_tab to /root/nltk_data...\n",
            "[nltk_data]   Unzipping tokenizers/punkt_tab.zip.\n"
          ]
        },
        {
          "output_type": "stream",
          "name": "stdout",
          "text": [
            "Sentences:\n",
            "['\\nNatural Language Processing (NLP) is a subfield of artificial intelligence (AI) that focuses on the interaction between computers and human language.', 'It aims to enable computers to understand, interpret, and generate human language in a way that is both valuable and meaningful.']\n",
            "\n",
            "Words:\n",
            "['Natural', 'Language', 'Processing', '(', 'NLP', ')', 'is', 'a', 'subfield', 'of', 'artificial', 'intelligence', '(', 'AI', ')', 'that', 'focuses', 'on', 'the', 'interaction', 'between', 'computers', 'and', 'human', 'language', '.', 'It', 'aims', 'to', 'enable', 'computers', 'to', 'understand', ',', 'interpret', ',', 'and', 'generate', 'human', 'language', 'in', 'a', 'way', 'that', 'is', 'both', 'valuable', 'and', 'meaningful', '.']\n"
          ]
        }
      ]
    },
    {
      "cell_type": "code",
      "source": [],
      "metadata": {
        "id": "waE3X0TwBWaa"
      },
      "execution_count": null,
      "outputs": []
    }
  ]
}