{
  "nbformat": 4,
  "nbformat_minor": 0,
  "metadata": {
    "colab": {
      "provenance": [],
      "authorship_tag": "ABX9TyMnlA5qxPA2C4C/OaqkkmeW",
      "include_colab_link": true
    },
    "kernelspec": {
      "name": "python3",
      "display_name": "Python 3"
    },
    "language_info": {
      "name": "python"
    }
  },
  "cells": [
    {
      "cell_type": "markdown",
      "metadata": {
        "id": "view-in-github",
        "colab_type": "text"
      },
      "source": [
        "<a href=\"https://colab.research.google.com/github/thanujamaddika/NLP/blob/main/DAY2.ipynb\" target=\"_parent\"><img src=\"https://colab.research.google.com/assets/colab-badge.svg\" alt=\"Open In Colab\"/></a>"
      ]
    },
    {
      "cell_type": "code",
      "execution_count": 2,
      "metadata": {
        "colab": {
          "base_uri": "https://localhost:8080/"
        },
        "id": "2NuKCOtQO-ho",
        "outputId": "093061bb-8f15-4093-8902-2ec9956e1151"
      },
      "outputs": [
        {
          "output_type": "stream",
          "name": "stdout",
          "text": [
            "List: [10, 20, 30, 40, 50]\n",
            "First element of the list: 10\n",
            "Last element of the list: 50\n",
            "Slice elements from index 1 to 3: [20, 30, 40]\n",
            "\n",
            "Tuple: ('apple', 'banana', 'cherry', 'date', 'elderberry')\n",
            "Second element of the tuple: banana\n",
            "Last element of the tuple: elderberry\n",
            "Slice elements from index 2 to 4: ('cherry', 'date', 'elderberry')\n",
            "\n",
            "Dictionary: {'name': 'Alice', 'age': 25, 'city': 'New York', 'hobby': 'Painting', 'profession': 'Engineer'}\n",
            "Value of 'name': Alice\n",
            "Value of 'city': New York\n",
            "All keys in the dictionary: dict_keys(['name', 'age', 'city', 'hobby', 'profession'])\n",
            "All values in the dictionary: dict_values(['Alice', 25, 'New York', 'Painting', 'Engineer'])\n",
            "\n",
            "Updated Dictionary: {'name': 'Alice', 'age': 26, 'city': 'New York', 'hobby': 'Painting', 'profession': 'Engineer'}\n",
            "Updated 'age': 26\n"
          ]
        }
      ],
      "source": [
        "my_list = [10, 20, 30, 40, 50]\n",
        "print(\"List:\", my_list)\n",
        "print(\"First element of the list:\", my_list[0])\n",
        "print(\"Last element of the list:\", my_list[-1])\n",
        "print(\"Slice elements from index 1 to 3:\", my_list[1:4])\n",
        "my_tuple = (\"apple\", \"banana\", \"cherry\", \"date\", \"elderberry\")\n",
        "print(\"\\nTuple:\", my_tuple)\n",
        "print(\"Second element of the tuple:\", my_tuple[1])\n",
        "print(\"Last element of the tuple:\", my_tuple[-1])\n",
        "print(\"Slice elements from index 2 to 4:\", my_tuple[2:5])\n",
        "my_dict = {\n",
        "\"name\": \"Alice\",\n",
        "\"age\": 25,\n",
        "\"city\": \"New York\",\n",
        "\"hobby\": \"Painting\",\n",
        "\"profession\": \"Engineer\"\n",
        "}\n",
        "print(\"\\nDictionary:\", my_dict)\n",
        "print(\"Value of 'name':\", my_dict[\"name\"])\n",
        "print(\"Value of 'city':\", my_dict[\"city\"])\n",
        "print(\"All keys in the dictionary:\", my_dict.keys())\n",
        "print(\"All values in the dictionary:\", my_dict.values())\n",
        "my_dict[\"age\"] = 26\n",
        "print(\"\\nUpdated Dictionary:\", my_dict)\n",
        "print(\"Updated 'age':\", my_dict[\"age\"])"
      ]
    },
    {
      "cell_type": "code",
      "source": [],
      "metadata": {
        "id": "V3ZtEv9UPA9q"
      },
      "execution_count": null,
      "outputs": []
    }
  ]
}