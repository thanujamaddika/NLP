{
  "nbformat": 4,
  "nbformat_minor": 0,
  "metadata": {
    "colab": {
      "provenance": [],
      "authorship_tag": "ABX9TyOItPpj6K1kS/ypo1sVtlSR",
      "include_colab_link": true
    },
    "kernelspec": {
      "name": "python3",
      "display_name": "Python 3"
    },
    "language_info": {
      "name": "python"
    }
  },
  "cells": [
    {
      "cell_type": "markdown",
      "metadata": {
        "id": "view-in-github",
        "colab_type": "text"
      },
      "source": [
        "<a href=\"https://colab.research.google.com/github/thanujamaddika/NLP/blob/main/DAY13.ipynb\" target=\"_parent\"><img src=\"https://colab.research.google.com/assets/colab-badge.svg\" alt=\"Open In Colab\"/></a>"
      ]
    },
    {
      "cell_type": "code",
      "execution_count": 1,
      "metadata": {
        "colab": {
          "base_uri": "https://localhost:8080/"
        },
        "id": "efZgV8IsLarq",
        "outputId": "89e744e4-427d-4d12-a5d4-6f2cb3d1b36c"
      },
      "outputs": [
        {
          "output_type": "stream",
          "name": "stdout",
          "text": [
            "NLP: PROPN\n",
            "is: AUX\n",
            "amazing: ADJ\n",
            "and: CCONJ\n",
            "fun: ADJ\n",
            "to: PART\n",
            "learn: VERB\n",
            ".: PUNCT\n"
          ]
        }
      ],
      "source": [
        "import spacy\n",
        "\n",
        "# Load the SpaCy model\n",
        "nlp = spacy.load(\"en_core_web_sm\")\n",
        "\n",
        "# The sentence to be tagged\n",
        "sentence = \"NLP is amazing and fun to learn.\"\n",
        "\n",
        "# Process the sentence with SpaCy\n",
        "doc = nlp(sentence)\n",
        "\n",
        "# Print part-of-speech tags\n",
        "for token in doc:\n",
        "    print(f\"{token.text}: {token.pos_}\")\n"
      ]
    },
    {
      "cell_type": "code",
      "source": [],
      "metadata": {
        "id": "-BDMrikvLb6S"
      },
      "execution_count": null,
      "outputs": []
    }
  ]
}