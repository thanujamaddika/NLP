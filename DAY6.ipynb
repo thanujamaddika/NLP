{
  "nbformat": 4,
  "nbformat_minor": 0,
  "metadata": {
    "colab": {
      "provenance": [],
      "authorship_tag": "ABX9TyME0Y0EEYCv6s88bvRK2ShF",
      "include_colab_link": true
    },
    "kernelspec": {
      "name": "python3",
      "display_name": "Python 3"
    },
    "language_info": {
      "name": "python"
    }
  },
  "cells": [
    {
      "cell_type": "markdown",
      "metadata": {
        "id": "view-in-github",
        "colab_type": "text"
      },
      "source": [
        "<a href=\"https://colab.research.google.com/github/thanujamaddika/NLP/blob/main/DAY6.ipynb\" target=\"_parent\"><img src=\"https://colab.research.google.com/assets/colab-badge.svg\" alt=\"Open In Colab\"/></a>"
      ]
    },
    {
      "cell_type": "markdown",
      "source": [
        "**Write a Python program to using NLTK and SpacyConvert text to lowercase.Remove stopwords using NLTK**"
      ],
      "metadata": {
        "id": "6OdL2fZg6MC_"
      }
    },
    {
      "cell_type": "code",
      "source": [
        " import nltk\n",
        " import spacy\n",
        " from nltk.corpus import stopwords\n",
        " nltk.download('stopwords')\n",
        " stop_words = set(stopwords.words('english'))\n",
        " nlp = spacy.load(\"en_core_web_sm\")\n",
        " text = input(\"Enter a text: \")\n",
        " doc = nlp(text.lower())\n",
        " filtered_words = [token.text for token in doc if token.text not in stop_words]\n",
        " filtered_text = \" \".join(filtered_words)\n",
        " print(\"\\nFiltered text (stopwords removed):\")\n",
        " print(filtered_text)"
      ],
      "metadata": {
        "colab": {
          "base_uri": "https://localhost:8080/"
        },
        "id": "Ur1-QcJL6Per",
        "outputId": "317c4cb5-a3cb-41f4-802e-ee76ef3530d1"
      },
      "execution_count": 2,
      "outputs": [
        {
          "output_type": "stream",
          "name": "stderr",
          "text": [
            "[nltk_data] Downloading package stopwords to /root/nltk_data...\n",
            "[nltk_data]   Package stopwords is already up-to-date!\n"
          ]
        },
        {
          "output_type": "stream",
          "name": "stdout",
          "text": [
            "Enter a text: she is a pretty girl \n",
            "\n",
            "Filtered text (stopwords removed):\n",
            "pretty girl\n"
          ]
        }
      ]
    },
    {
      "cell_type": "code",
      "source": [],
      "metadata": {
        "id": "b2QpIW3N6Wbu"
      },
      "execution_count": null,
      "outputs": []
    }
  ]
}