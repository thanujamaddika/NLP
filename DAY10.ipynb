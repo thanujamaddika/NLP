{
  "nbformat": 4,
  "nbformat_minor": 0,
  "metadata": {
    "colab": {
      "provenance": [],
      "authorship_tag": "ABX9TyMbDCAj7cIySb+weT+cYy92",
      "include_colab_link": true
    },
    "kernelspec": {
      "name": "python3",
      "display_name": "Python 3"
    },
    "language_info": {
      "name": "python"
    }
  },
  "cells": [
    {
      "cell_type": "markdown",
      "metadata": {
        "id": "view-in-github",
        "colab_type": "text"
      },
      "source": [
        "<a href=\"https://colab.research.google.com/github/thanujamaddika/NLP/blob/main/DAY10.ipynb\" target=\"_parent\"><img src=\"https://colab.research.google.com/assets/colab-badge.svg\" alt=\"Open In Colab\"/></a>"
      ]
    },
    {
      "cell_type": "code",
      "execution_count": 1,
      "metadata": {
        "colab": {
          "base_uri": "https://localhost:8080/"
        },
        "id": "bA3AFMZLKgde",
        "outputId": "b2685191-23b8-4bee-ce68-7f793532be56"
      },
      "outputs": [
        {
          "output_type": "stream",
          "name": "stdout",
          "text": [
            "Extracted Emails: ['support@example.com', 'sales@example.org']\n"
          ]
        }
      ],
      "source": [
        "import re\n",
        "\n",
        "def extract_emails(text):\n",
        "    # Regular expression to match email addresses\n",
        "    email_pattern = r'[a-zA-Z0-9._%+-]+@[a-zA-Z0-9.-]+\\.[a-zA-Z]{2,}'\n",
        "    emails = re.findall(email_pattern, text)  # Find all email addresses\n",
        "    return emails\n",
        "\n",
        "# Test the function\n",
        "input_text = 'Contact us at support@example.com and sales@example.org.'\n",
        "emails = extract_emails(input_text)\n",
        "print(\"Extracted Emails:\", emails)\n"
      ]
    },
    {
      "cell_type": "code",
      "source": [],
      "metadata": {
        "id": "Q3fsPFePKkS3"
      },
      "execution_count": null,
      "outputs": []
    }
  ]
}