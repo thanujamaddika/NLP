{
  "nbformat": 4,
  "nbformat_minor": 0,
  "metadata": {
    "colab": {
      "provenance": [],
      "authorship_tag": "ABX9TyOxfwsO6g8D8/5l5bIdUy/J",
      "include_colab_link": true
    },
    "kernelspec": {
      "name": "python3",
      "display_name": "Python 3"
    },
    "language_info": {
      "name": "python"
    }
  },
  "cells": [
    {
      "cell_type": "markdown",
      "metadata": {
        "id": "view-in-github",
        "colab_type": "text"
      },
      "source": [
        "<a href=\"https://colab.research.google.com/github/thanujamaddika/NLP/blob/main/DAY3.ipynb\" target=\"_parent\"><img src=\"https://colab.research.google.com/assets/colab-badge.svg\" alt=\"Open In Colab\"/></a>"
      ]
    },
    {
      "cell_type": "markdown",
      "source": [
        "**Write a Python program that takes a student's\n",
        " marks in three subjects as input.If the average\n",
        " is greater than or equal to 90, print \"Grade:\n",
        " A\".If the average is between 80 and 89, print\n",
        " \"Grade: B\".If the average is between 70 and 79,\n",
        " print \"Grade: C\".Otherwise, print \"Grade:\n",
        " Fail\".**"
      ],
      "metadata": {
        "id": "rPQti1w8S4PE"
      }
    },
    {
      "cell_type": "code",
      "source": [
        "subject1 = float(input(\"Enter marks for Subject 1: \"))\n",
        "subject2 = float(input(\"Enter marks for Subject 2: \"))\n",
        "subject3 = float(input(\"Enter marks for Subject 3: \"))\n",
        "average = (subject1 + subject2 + subject3) / 3\n",
        "if average >= 90:\n",
        "   print(\"Grade: A\")\n",
        "elif 80 <= average < 90:\n",
        "   print(\"Grade: B\")\n",
        "elif 70 <= average < 80:\n",
        "   print(\"Grade: C\")\n",
        "else:\n",
        "   print(\"Grade: Fail\")"
      ],
      "metadata": {
        "colab": {
          "base_uri": "https://localhost:8080/"
        },
        "id": "SVC-b9o4S7hY",
        "outputId": "56e412aa-534d-4f5c-9693-8445e012f91e"
      },
      "execution_count": 2,
      "outputs": [
        {
          "output_type": "stream",
          "name": "stdout",
          "text": [
            "Enter marks for Subject 1: 87\n",
            "Enter marks for Subject 2: 76\n",
            "Enter marks for Subject 3: 98\n",
            "Grade: B\n"
          ]
        }
      ]
    },
    {
      "cell_type": "code",
      "source": [],
      "metadata": {
        "id": "jHOCB5PiTDY0"
      },
      "execution_count": null,
      "outputs": []
    }
  ]
}