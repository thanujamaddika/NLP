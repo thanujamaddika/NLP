{
  "nbformat": 4,
  "nbformat_minor": 0,
  "metadata": {
    "colab": {
      "provenance": [],
      "gpuType": "T4",
      "authorship_tag": "ABX9TyM5Gqg2skyGiuimMf7MEDic",
      "include_colab_link": true
    },
    "kernelspec": {
      "name": "python3",
      "display_name": "Python 3"
    },
    "language_info": {
      "name": "python"
    },
    "accelerator": "GPU"
  },
  "cells": [
    {
      "cell_type": "markdown",
      "metadata": {
        "id": "view-in-github",
        "colab_type": "text"
      },
      "source": [
        "<a href=\"https://colab.research.google.com/github/thanujamaddika/NLP/blob/main/stopwords.ipynb\" target=\"_parent\"><img src=\"https://colab.research.google.com/assets/colab-badge.svg\" alt=\"Open In Colab\"/></a>"
      ]
    },
    {
      "cell_type": "code",
      "execution_count": 1,
      "metadata": {
        "id": "AndrUZ7iodU3"
      },
      "outputs": [],
      "source": [
        "import nltk\n",
        "import string\n",
        "import numpy as np\n",
        "from sklearn.feature_extraction.text import TfidfVectorizer\n",
        "from sklearn.metrics.pairwise import cosine_similarity\n",
        "from nltk.corpus import stopwords\n",
        "from nltk.tokenize import word_tokenize\n",
        "\n"
      ]
    },
    {
      "cell_type": "code",
      "source": [
        "nltk.download('punkt')\n",
        "nltk.download('punkt_tab')\n",
        "nltk.download('stopwords')\n",
        "nltk.download('wordnet')\n"
      ],
      "metadata": {
        "colab": {
          "base_uri": "https://localhost:8080/"
        },
        "id": "HO6o2ms7phZU",
        "outputId": "b752c3f2-9ec7-4ce0-d057-f9a350da6bc2"
      },
      "execution_count": 4,
      "outputs": [
        {
          "output_type": "stream",
          "name": "stderr",
          "text": [
            "[nltk_data] Downloading package punkt to /root/nltk_data...\n",
            "[nltk_data]   Unzipping tokenizers/punkt.zip.\n",
            "[nltk_data] Downloading package punkt_tab to /root/nltk_data...\n",
            "[nltk_data]   Unzipping tokenizers/punkt_tab.zip.\n",
            "[nltk_data] Downloading package stopwords to /root/nltk_data...\n",
            "[nltk_data]   Unzipping corpora/stopwords.zip.\n",
            "[nltk_data] Downloading package wordnet to /root/nltk_data...\n"
          ]
        },
        {
          "output_type": "execute_result",
          "data": {
            "text/plain": [
              "True"
            ]
          },
          "metadata": {},
          "execution_count": 4
        }
      ]
    },
    {
      "cell_type": "code",
      "source": [
        "review1=\"I loved the storyline and the performances were top-notch!\"\n",
        "review2='movie was so boring, I hated the acting and plot'"
      ],
      "metadata": {
        "id": "ZH23TV-sqHXa"
      },
      "execution_count": 12,
      "outputs": []
    },
    {
      "cell_type": "code",
      "source": [
        "def preprocess_text(text):\n",
        "  tokens=word_tokenize(text)\n",
        "  tokens=[word.lower() for word in tokens]\n",
        "  stop_word=set(stopwords.words('english'))\n",
        "  tokens=[word for word in tokens if word not in stop_word]\n",
        "  return \" \".join(tokens)"
      ],
      "metadata": {
        "id": "74dWUX_Frtp9"
      },
      "execution_count": 13,
      "outputs": []
    },
    {
      "cell_type": "code",
      "source": [
        "a=preprocess_text(review1)\n",
        "print(a)\n",
        "b=preprocess_text(review2)\n",
        "print(b)"
      ],
      "metadata": {
        "colab": {
          "base_uri": "https://localhost:8080/"
        },
        "id": "4kbJo_VqsORG",
        "outputId": "c364fe70-9f23-4c74-eb80-d3f02de4915e"
      },
      "execution_count": 15,
      "outputs": [
        {
          "output_type": "stream",
          "name": "stdout",
          "text": [
            "loved storyline performances top-notch !\n",
            "movie boring , hated acting plot\n"
          ]
        }
      ]
    },
    {
      "cell_type": "code",
      "source": [
        "from nltk.sentiment import SentimentIntensityAnalyzer\n",
        "nltk.download('vader_lexicon')\n",
        "\n",
        "# Initialize sentiment analyzer\n",
        "sia = SentimentIntensityAnalyzer()\n",
        "\n",
        "# Get sentiment scores\n",
        "sentiment1 = sia.polarity_scores(a)  # Processed review1\n",
        "sentiment2 = sia.polarity_scores(b)  # Processed review2\n",
        "\n",
        "print(\"Review 1 Sentiment:\", sentiment1)\n",
        "print(\"Review 2 Sentiment:\", sentiment2)\n"
      ],
      "metadata": {
        "colab": {
          "base_uri": "https://localhost:8080/"
        },
        "id": "76so_kUqtXbd",
        "outputId": "df2d4b9a-a2ef-4867-d59f-1ecd5749f0a1"
      },
      "execution_count": 16,
      "outputs": [
        {
          "output_type": "stream",
          "name": "stdout",
          "text": [
            "Review 1 Sentiment: {'neg': 0.0, 'neu': 0.417, 'pos': 0.583, 'compound': 0.636}\n",
            "Review 2 Sentiment: {'neg': 0.684, 'neu': 0.316, 'pos': 0.0, 'compound': -0.7579}\n"
          ]
        },
        {
          "output_type": "stream",
          "name": "stderr",
          "text": [
            "[nltk_data] Downloading package vader_lexicon to /root/nltk_data...\n"
          ]
        }
      ]
    },
    {
      "cell_type": "code",
      "source": [
        "vectorizer=TfidfVectorizer()\n",
        "vector=vectorizer.fit_transform([a,b])\n",
        "vector.toarray()"
      ],
      "metadata": {
        "colab": {
          "base_uri": "https://localhost:8080/"
        },
        "id": "eivfwWqkvF7-",
        "outputId": "4213ca65-bf02-4919-cf8b-68cc1f064de9"
      },
      "execution_count": 17,
      "outputs": [
        {
          "output_type": "execute_result",
          "data": {
            "text/plain": [
              "array([[0.       , 0.       , 0.       , 0.4472136, 0.       , 0.4472136,\n",
              "        0.4472136, 0.       , 0.4472136, 0.4472136],\n",
              "       [0.4472136, 0.4472136, 0.4472136, 0.       , 0.4472136, 0.       ,\n",
              "        0.       , 0.4472136, 0.       , 0.       ]])"
            ]
          },
          "metadata": {},
          "execution_count": 17
        }
      ]
    },
    {
      "cell_type": "code",
      "source": [
        "cosine_sim=cosine_similarity(vector[0])[0][0]\n",
        "print(round(cosine_sim,3))"
      ],
      "metadata": {
        "colab": {
          "base_uri": "https://localhost:8080/"
        },
        "id": "G4CH-oXHvZ_C",
        "outputId": "e0976306-079a-433d-beb2-d25e019b43f6"
      },
      "execution_count": 23,
      "outputs": [
        {
          "output_type": "stream",
          "name": "stdout",
          "text": [
            "1.0\n"
          ]
        }
      ]
    },
    {
      "cell_type": "code",
      "source": [],
      "metadata": {
        "id": "t-g-UOUDwV2I"
      },
      "execution_count": null,
      "outputs": []
    }
  ]
}