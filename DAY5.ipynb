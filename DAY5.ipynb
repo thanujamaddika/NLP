{
  "nbformat": 4,
  "nbformat_minor": 0,
  "metadata": {
    "colab": {
      "provenance": [],
      "authorship_tag": "ABX9TyONGdAyA3N/SgTCRq4k2K1v",
      "include_colab_link": true
    },
    "kernelspec": {
      "name": "python3",
      "display_name": "Python 3"
    },
    "language_info": {
      "name": "python"
    }
  },
  "cells": [
    {
      "cell_type": "markdown",
      "metadata": {
        "id": "view-in-github",
        "colab_type": "text"
      },
      "source": [
        "<a href=\"https://colab.research.google.com/github/thanujamaddika/NLP/blob/main/DAY5.ipynb\" target=\"_parent\"><img src=\"https://colab.research.google.com/assets/colab-badge.svg\" alt=\"Open In Colab\"/></a>"
      ]
    },
    {
      "cell_type": "markdown",
      "source": [
        "** write a python program to calculate the\n",
        " frequenecy of each word in a given text .print\n",
        " the words and their corrosponding counts **"
      ],
      "metadata": {
        "id": "9qLCkEMN45YR"
      }
    },
    {
      "cell_type": "code",
      "source": [
        "text = input(\"Enter a text: \")\n",
        "words = text.lower().split()\n",
        "word_counts = {}\n",
        "for word in words:\n",
        "    # Indented this line to be part of the for loop\n",
        "    word_counts[word] = word_counts.get(word, 0) + 1\n",
        "print(\"\\nWord frequencies:\")\n",
        "for word, count in word_counts.items():\n",
        "    # Indented this line to be part of the for loop\n",
        "    print(f\"{word}: {count}\")"
      ],
      "metadata": {
        "colab": {
          "base_uri": "https://localhost:8080/"
        },
        "id": "2tMAxbp74700",
        "outputId": "47f9dd3f-bcfa-4496-9dce-287494578ec8"
      },
      "execution_count": 2,
      "outputs": [
        {
          "output_type": "stream",
          "name": "stdout",
          "text": [
            "Enter a text: Hello world\n",
            "\n",
            "Word frequencies:\n",
            "hello: 1\n",
            "world: 1\n"
          ]
        }
      ]
    }
  ]
}